{
 "cells": [
  {
   "cell_type": "markdown",
   "id": "749d5dbc-57e7-432e-b1b8-26d10670cbdb",
   "metadata": {
    "tags": []
   },
   "source": [
    "# <img align=\"left\" src=\"assets/panda.jpeg\" width=\"100\" height=\"100\" style=\"border-radius: 50%; margin-right: 20px\">  \n",
    "# Cobrança em massa de pedidos sem agenda por fornecedor "
   ]
  },
  {
   "cell_type": "markdown",
   "id": "e185a0a9-a5ac-43b8-8755-b444430a1fd7",
   "metadata": {
    "tags": []
   },
   "source": [
    "> Essa **automação** envia e-mails de cobrança de agendamentos por fornecedor para cada pedido que constar sem agenda na carteira de pedidos."
   ]
  },
  {
   "cell_type": "markdown",
   "id": "a17f4af0-7e35-479b-adbb-72abba6bcd59",
   "metadata": {},
   "source": [
    ">Dica:\n",
    ">\n",
    ">Para executar esse código na totalidade, clique em **RUN** e depois em **RUN ALL CELLS**."
   ]
  },
  {
   "cell_type": "code",
   "execution_count": 1,
   "id": "355b530c-ddb6-45cd-a9da-d02c2000d3d0",
   "metadata": {
    "tags": []
   },
   "outputs": [],
   "source": [
    "# bibliotecas utilizadas no projeto\n",
    "import win32com.client as win32 \n",
    "import pandas as pd\n",
    "from datetime import datetime"
   ]
  },
  {
   "cell_type": "code",
   "execution_count": 14,
   "id": "3f1d4025-7528-4361-9f14-0bb6fa46b5da",
   "metadata": {
    "tags": []
   },
   "outputs": [],
   "source": [
    "base = pd.read_excel('planilhas/BASE_DASHBOARD_PEDIDOS_COMPRA.xlsx') # base da carteira de pedidos por fornecedor.\n",
    "emails_forn = pd.read_excel('planilhas/emails_forn.xlsx') # base de contatos de emails fornecedores.\n",
    "emails_amigao = pd.read_excel('planilhas/emails_amigao.xlsx')  # base de contatos internos por depto."
   ]
  },
  {
   "cell_type": "code",
   "execution_count": 3,
   "id": "c806c1ad-cce5-4493-9460-d26176d3c3e1",
   "metadata": {
    "tags": []
   },
   "outputs": [],
   "source": [
    "# exclusão de colunas excedentes da carteira de pedidos\n",
    "base = base.drop(\"Unnamed: 0\", axis=1)\n",
    "base = base.drop(\"Unnamed: 22\", axis=1)\n",
    "base = base.drop(\"Unnamed: 23\", axis=1)\n",
    "base = base.drop(\"Unnamed: 24\", axis=1)"
   ]
  },
  {
   "cell_type": "code",
   "execution_count": 4,
   "id": "f4c1c3ea-791e-4703-96db-8e5a2c5fdcf2",
   "metadata": {
    "tags": []
   },
   "outputs": [],
   "source": [
    "# variavel que pega a data atual\n",
    "data_atual = datetime.now().date()"
   ]
  },
  {
   "cell_type": "code",
   "execution_count": 5,
   "id": "dcc9fed1-79f7-4a20-935a-5a30500ff80f",
   "metadata": {
    "tags": []
   },
   "outputs": [],
   "source": [
    "# filtro de fornecedores com data de entrega maior ou igual ao dial atual\n",
    "base_dashboard = base[base['DT_ENTREGA'].dt.date >= data_atual]"
   ]
  },
  {
   "cell_type": "code",
   "execution_count": 6,
   "id": "701b8cd1-4e48-4ecc-a938-e1116154e3e1",
   "metadata": {
    "tags": []
   },
   "outputs": [],
   "source": [
    "# filtro de fornecedores sem agendamento\n",
    "fornecedores_sem_agendamento = base_dashboard[base_dashboard['DT_AGENDA'].str.startswith('SEM')]"
   ]
  },
  {
   "cell_type": "code",
   "execution_count": 7,
   "id": "2d55b022-bb7c-44e7-a2ad-28cbcc3bb4bd",
   "metadata": {
    "tags": []
   },
   "outputs": [],
   "source": [
    "# filtro de pedidos do tipo original e forma de aquisição CD\n",
    "fornecedores_cd_original = fornecedores_sem_agendamento[(fornecedores_sem_agendamento['Classificacao do pedido'] == 'Original') & \n",
    "                            (fornecedores_sem_agendamento['LOCAL_ENT'] == 'CD')]"
   ]
  },
  {
   "cell_type": "code",
   "execution_count": 8,
   "id": "c779681e-c55f-4f46-9580-ce6215dc3556",
   "metadata": {
    "tags": []
   },
   "outputs": [],
   "source": [
    "fornecedores_validos = fornecedores_cd_original.drop_duplicates(subset=\"PEDIDO\") # remoção de nº de pedido duplicado"
   ]
  },
  {
   "cell_type": "code",
   "execution_count": null,
   "id": "7cead1f5-3899-4e5b-b87f-14352e30d067",
   "metadata": {
    "tags": []
   },
   "outputs": [],
   "source": [
    "# função de envio e-mail\n",
    "def send_email(to, cc, subject, body):\n",
    "    outlook = win32.Dispatch('outlook.application')\n",
    "    mail = outlook.CreateItem(0) # inicializa o outlook \n",
    "    \n",
    "    # remove duplicatas dos e-mails\n",
    "    to_unique = list(set(to))\n",
    "    cc_unique = list(set(cc))\n",
    "    \n",
    "    # adiciona destinatários\n",
    "    mail.To = ';'.join(to_unique)\n",
    "    mail.CC = ';'.join(cc_unique)\n",
    "    \n",
    "    # adiciona assunto e corpo do e-mail\n",
    "    mail.Subject = subject\n",
    "    mail.Body = body\n",
    "    \n",
    "    try:\n",
    "        # tratamento de erro no envio de emails\n",
    "        mail.Send()\n",
    "        return True  # indicador de e-mail enviado com sucesso\n",
    "    except Exception as e:\n",
    "        print(f\"Erro ao enviar e-mail: {str(e)}\")\n",
    "        return False  # indicador de erro do envio de e-mail\n",
    "\n",
    "# contador de emails \n",
    "emails_enviados = 0\n",
    "emails_nao_enviados = 0\n",
    "\n",
    "# agrupamento de fornecedores\n",
    "for (usuario, depto, nome_fornecedor), grupo_pedidos in fornecedores_validos.groupby(['NOME USUARIO', 'DEP', 'DESC_FORN']):\n",
    "    # obter informações do fornecedor e pedidos\n",
    "    email_to = emails_forn.loc[emails_forn['nome_fornecedor'] == nome_fornecedor, 'email'].tolist()\n",
    "    email_cc = emails_forn.loc[emails_forn['nome_fornecedor'] == nome_fornecedor, 'email_forn_cc'].tolist()\n",
    "\n",
    "    # evita duplicação de e-mails\n",
    "    email_to = list(set(email_to))\n",
    "    email_cc = list(set(email_cc))\n",
    "\n",
    "    # departamentos para cópia de e-mail\n",
    "    depto_fornecedor = grupo_pedidos.iloc[0]['DEP']\n",
    "    if depto_fornecedor in emails_amigao['depto'].values:\n",
    "        contatos_amigao = emails_amigao.loc[emails_amigao['depto'] == depto_fornecedor, 'contatos_amigao'].tolist()\n",
    "        email_cc += contatos_amigao\n",
    "\n",
    "        # evita duplicação de e-mails\n",
    "        email_cc = list(set(email_cc))\n",
    "\n",
    "    # agrupamento de pedidos por departamento e usuário\n",
    "    pedidos_usuario = grupo_pedidos.groupby(['DEP', 'NOME USUARIO', 'DESC_FORN', 'PEDIDO'])\n",
    "\n",
    "    # corpo do e-mail\n",
    "    corpo_email = f\"\"\"Prezado Fornecedor:\n",
    "\n",
    "Identificamos em nosso sistema o(s) pedido(s) de compra pendente(s) de agendamento com elevado nível de ruptura em nossas unidades e CD’s.\n",
    "\n",
    "FORNECEDOR: {nome_fornecedor}\n",
    "COD_FORN: {grupo_pedidos.iloc[0]['COD_FORN']}\n",
    "DEPARTAMENTO: {depto_fornecedor}\n",
    "COMPRADOR: {usuario}\n",
    "\n",
    "PEDIDOS:\\n\"\"\"\n",
    "    for (_, pedido) in pedidos_usuario:\n",
    "        lead_time = pedido.iloc[0]['DT_ENTREGA'].strftime('%d/%m/%y')  # formatar datas para dd/mm/yy\n",
    "        data_emissao = pedido.iloc[0]['DT_EMISSAO'].strftime('%d/%m/%y')  # formatar datas para dd/mm/yy\n",
    "        # estrutura do pedido\n",
    "        corpo_email += f\"N° {pedido.iloc[0]['PEDIDO']} | EMITIDO EM: {data_emissao} | AGENDAR ATÉ: {lead_time}\\n\" \n",
    "\n",
    "    # adiciona departamento e comprador\n",
    "    corpo_email += \"\"\"\n",
    "\n",
    "\n",
    "Gentileza agendar na data mais próxima disponível para mitigarmos a ruptura atual. Qualquer dificuldade sinalizar através do e-mail: agendamento@grupoamigao.com\n",
    "\n",
    "Caso o pedido já esteja agendado desconsiderar.\n",
    "\n",
    "No aguardo.\n",
    "\"\"\"\n",
    "\n",
    "    # enviar os e-mails\n",
    "    if send_email(email_to, email_cc, 'URGENTE – PEDIDO SEM AGENDAMENTO NO PORTAL', corpo_email):\n",
    "        # incremento do contador de e-mails enviados se o e-mail for enviado com sucesso\n",
    "        emails_enviados += 1\n",
    "        print(f'E-mail enviado para {nome_fornecedor} ({usuario}, {depto})')\n",
    "    else:\n",
    "        # incremento do contador de e-mails não enviados se ocorrer um erro ao enviar o e-mail\n",
    "        emails_nao_enviados += 1\n",
    "\n",
    "# print dos contadores\n",
    "print(f'Total de e-mails enviados: {emails_enviados}')\n",
    "print(f'Total de e-mails não enviados: {emails_nao_enviados}')"
   ]
  },
  {
   "cell_type": "code",
   "execution_count": 10,
   "id": "19b16ec8-3e56-4aa7-a948-e40093b88e2f",
   "metadata": {
    "tags": []
   },
   "outputs": [],
   "source": [
    "# Relatório para validar emails enviados por usuários, departamentos e qtd de pedidos.\n",
    "#resumo_pedidos = fornecedores_validos.groupby(['DEP', 'NOME USUARIO'])['PEDIDO'].count().reset_index()"
   ]
  },
  {
   "cell_type": "code",
   "execution_count": 12,
   "id": "7462da0c-dadd-4b92-80f9-d8667e023d01",
   "metadata": {
    "tags": []
   },
   "outputs": [],
   "source": [
    "#caminho = \"planilhas/base_depto.xlsx\""
   ]
  },
  {
   "cell_type": "code",
   "execution_count": 13,
   "id": "c7ff153b-304f-425d-9e91-d20dd97d58dd",
   "metadata": {
    "tags": []
   },
   "outputs": [],
   "source": [
    "#resumo_pedidos.to_excel(caminho, index=False)"
   ]
  }
 ],
 "metadata": {
  "kernelspec": {
   "display_name": "Python 3 (ipykernel)",
   "language": "python",
   "name": "python3"
  },
  "language_info": {
   "codemirror_mode": {
    "name": "ipython",
    "version": 3
   },
   "file_extension": ".py",
   "mimetype": "text/x-python",
   "name": "python",
   "nbconvert_exporter": "python",
   "pygments_lexer": "ipython3",
   "version": "3.11.5"
  }
 },
 "nbformat": 4,
 "nbformat_minor": 5
}
